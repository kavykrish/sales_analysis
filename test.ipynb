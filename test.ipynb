{
 "cells": [
  {
   "cell_type": "code",
   "execution_count": 1,
   "id": "d29468a1",
   "metadata": {},
   "outputs": [],
   "source": [
    "class Bank:\n",
    "    def __init__(self,loc):\n",
    "        self.location=loc\n"
   ]
  },
  {
   "cell_type": "code",
   "execution_count": 2,
   "id": "838f749d",
   "metadata": {},
   "outputs": [],
   "source": [
    "a=Bank(\"tvm\")\n"
   ]
  },
  {
   "cell_type": "code",
   "execution_count": 3,
   "id": "a48b478c",
   "metadata": {},
   "outputs": [
    {
     "data": {
      "text/plain": [
       "'tvm'"
      ]
     },
     "execution_count": 3,
     "metadata": {},
     "output_type": "execute_result"
    }
   ],
   "source": [
    "a.location"
   ]
  },
  {
   "cell_type": "code",
   "execution_count": null,
   "id": "d8c25c26",
   "metadata": {},
   "outputs": [],
   "source": [
    "import pandas as pd\n",
    "data=pd.read_csv(\"data/external_sources/data.csv\")\n",
    "data.fillna(method=\"ffill\", inplace=True)\n",
    "data.to_csv(,index=False)"
   ]
  },
  {
   "cell_type": "code",
   "execution_count": 13,
   "id": "6ea7949e",
   "metadata": {},
   "outputs": [
    {
     "name": "stderr",
     "output_type": "stream",
     "text": [
      "C:\\Users\\KRISHNA VENI S\\AppData\\Local\\Temp\\ipykernel_8260\\3318255367.py:1: FutureWarning: DataFrame.fillna with 'method' is deprecated and will raise in a future version. Use obj.ffill() or obj.bfill() instead.\n",
      "  data.fillna(method=\"ffill\", inplace=True)\n"
     ]
    }
   ],
   "source": [
    "data.fillna(method=\"ffill\", inplace=True)\n"
   ]
  },
  {
   "cell_type": "code",
   "execution_count": 14,
   "id": "b155103a",
   "metadata": {},
   "outputs": [
    {
     "data": {
      "text/html": [
       "<div>\n",
       "<style scoped>\n",
       "    .dataframe tbody tr th:only-of-type {\n",
       "        vertical-align: middle;\n",
       "    }\n",
       "\n",
       "    .dataframe tbody tr th {\n",
       "        vertical-align: top;\n",
       "    }\n",
       "\n",
       "    .dataframe thead th {\n",
       "        text-align: right;\n",
       "    }\n",
       "</style>\n",
       "<table border=\"1\" class=\"dataframe\">\n",
       "  <thead>\n",
       "    <tr style=\"text-align: right;\">\n",
       "      <th></th>\n",
       "      <th>name</th>\n",
       "      <th>age</th>\n",
       "      <th>salary</th>\n",
       "      <th>gender</th>\n",
       "    </tr>\n",
       "  </thead>\n",
       "  <tbody>\n",
       "    <tr>\n",
       "      <th>0</th>\n",
       "      <td>krish</td>\n",
       "      <td>22</td>\n",
       "      <td>30000.0</td>\n",
       "      <td>Male</td>\n",
       "    </tr>\n",
       "    <tr>\n",
       "      <th>1</th>\n",
       "      <td>kavy</td>\n",
       "      <td>23</td>\n",
       "      <td>25000.0</td>\n",
       "      <td>Female</td>\n",
       "    </tr>\n",
       "    <tr>\n",
       "      <th>2</th>\n",
       "      <td>sree</td>\n",
       "      <td>25</td>\n",
       "      <td>25000.0</td>\n",
       "      <td>Female</td>\n",
       "    </tr>\n",
       "  </tbody>\n",
       "</table>\n",
       "</div>"
      ],
      "text/plain": [
       "    name  age   salary  gender\n",
       "0  krish   22  30000.0    Male\n",
       "1   kavy   23  25000.0  Female\n",
       "2   sree   25  25000.0  Female"
      ]
     },
     "execution_count": 14,
     "metadata": {},
     "output_type": "execute_result"
    }
   ],
   "source": [
    "data.head()"
   ]
  },
  {
   "cell_type": "code",
   "execution_count": 8,
   "id": "65f16b90",
   "metadata": {},
   "outputs": [],
   "source": [
    "import os"
   ]
  },
  {
   "cell_type": "code",
   "execution_count": 6,
   "id": "3921a9c0",
   "metadata": {},
   "outputs": [],
   "source": [
    "class DataProcessingConfig:\n",
    "    def __init__(self):\n",
    "        self.rawdata_path=os.path.join(\"data\", \"rawdata\",\"rawdata.csv\")\n",
    "        self.processed_path=os.path.join(\"data\", \"processed_data\",\"pdata.csv\")"
   ]
  },
  {
   "cell_type": "code",
   "execution_count": 9,
   "id": "d544b4c9",
   "metadata": {},
   "outputs": [
    {
     "name": "stdout",
     "output_type": "stream",
     "text": [
      "data\\rawdata\\rawdata.csv\n"
     ]
    }
   ],
   "source": [
    "a=DataProcessingConfig()\n",
    "print(a.rawdata_path)"
   ]
  },
  {
   "cell_type": "code",
   "execution_count": 15,
   "id": "3b7c79ba",
   "metadata": {},
   "outputs": [],
   "source": [
    "import pandas as pd\n",
    "class DataPreprocessing:\n",
    "    def __init__(self,a):\n",
    "        self.raw_path=a.rawdata_path\n",
    "        self.pre_path=a.processed_path\n",
    "    def dataprocessing(self):\n",
    "        \n",
    "       data=pd.read_csv(self.raw_path)\n",
    "       data.fillna(method=\"ffill\", inplace=True)\n",
    "       data.to_csv(self.pre_path,index=False)\n"
   ]
  },
  {
   "cell_type": "code",
   "execution_count": 17,
   "id": "794cf622",
   "metadata": {},
   "outputs": [
    {
     "name": "stderr",
     "output_type": "stream",
     "text": [
      "C:\\Users\\KRISHNA VENI S\\AppData\\Local\\Temp\\ipykernel_8260\\653782682.py:9: FutureWarning: DataFrame.fillna with 'method' is deprecated and will raise in a future version. Use obj.ffill() or obj.bfill() instead.\n",
      "  data.fillna(method=\"ffill\", inplace=True)\n"
     ]
    }
   ],
   "source": [
    "config=DataProcessingConfig()\n",
    "b=DataPreprocessing(config)\n",
    "b.dataprocessing()"
   ]
  },
  {
   "cell_type": "code",
   "execution_count": 1,
   "id": "afa3cb4a",
   "metadata": {},
   "outputs": [],
   "source": [
    "class Bank:\n",
    "    def __init__(self):\n",
    "        self.balance=0"
   ]
  },
  {
   "cell_type": "code",
   "execution_count": 2,
   "id": "0681bd67",
   "metadata": {},
   "outputs": [
    {
     "data": {
      "text/plain": [
       "0"
      ]
     },
     "execution_count": 2,
     "metadata": {},
     "output_type": "execute_result"
    }
   ],
   "source": [
    "a=Bank()\n",
    "a.balance"
   ]
  },
  {
   "cell_type": "code",
   "execution_count": null,
   "id": "f062a65b",
   "metadata": {},
   "outputs": [],
   "source": [
    "from dataclasses import dataclass\n",
    "\n",
    "@dataclass\n",
    "class Bank:\n",
    "    balance:int=0\n",
    "\n",
    "a"
   ]
  },
  {
   "cell_type": "code",
   "execution_count": null,
   "id": "d7a246b3",
   "metadata": {},
   "outputs": [],
   "source": [
    "import os\n",
    "from dataclasses import dataclass\n",
    "\n",
    "@dataclass\n",
    "class DataIngestionConfig:\n",
    "    source_path: str = os.path.join(\"data\", \"external_sources\", \"data.csv\")\n",
    "    destination_path: str = os.path.join(\"data\", \"rawdata\", \"rawdata.csv\")\n"
   ]
  },
  {
   "cell_type": "code",
   "execution_count": 3,
   "id": "75b1ca45",
   "metadata": {},
   "outputs": [],
   "source": [
    "def read_yaml_config(path:str):\n",
    "    with open(path,\"r\") as f:\n",
    "        return yaml.safe_load(f)"
   ]
  },
  {
   "cell_type": "code",
   "execution_count": 4,
   "id": "0be85b10",
   "metadata": {},
   "outputs": [],
   "source": [
    "import yaml\n",
    "from dataclasses import dataclass\n",
    "\n",
    "# Step 1: Load config from YAML\n",
    "config_dict = read_yaml_config(\"config/config.yaml\")"
   ]
  },
  {
   "cell_type": "code",
   "execution_count": 5,
   "id": "a241b3cf",
   "metadata": {},
   "outputs": [
    {
     "data": {
      "text/plain": [
       "{'source_path': 'data/external_sources/data.csv',\n",
       " 'destination_path': 'data/rawdata/rawdata.csv'}"
      ]
     },
     "execution_count": 5,
     "metadata": {},
     "output_type": "execute_result"
    }
   ],
   "source": [
    "config_dict[\"data_ingestion\"]"
   ]
  }
 ],
 "metadata": {
  "kernelspec": {
   "display_name": "Python 3",
   "language": "python",
   "name": "python3"
  },
  "language_info": {
   "codemirror_mode": {
    "name": "ipython",
    "version": 3
   },
   "file_extension": ".py",
   "mimetype": "text/x-python",
   "name": "python",
   "nbconvert_exporter": "python",
   "pygments_lexer": "ipython3",
   "version": "3.13.5"
  }
 },
 "nbformat": 4,
 "nbformat_minor": 5
}
